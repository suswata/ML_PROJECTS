{
 "cells": [
  {
   "cell_type": "code",
   "execution_count": 7,
   "metadata": {
    "pycharm": {
     "is_executing": true
    }
   },
   "outputs": [],
   "source": [
    "import cv2\n",
    "import numpy as np\n",
    "import face_recognition\n",
    "import math\n",
    "\n",
    "# imgElon = cv2.imread('./elonmusk.jpg',0)\n",
    "# imgElon = cv2.cvtColor(imgElon,cv2.COLOR_BAYER_BG2RGB)\n",
    "# imgTest = cv2.imread('./bill_gates.jpg',0)\n",
    "# imgTest = cv2.cvtColor(imgTest,cv2.COLOR_BAYER_BG2RGB)\n",
    "# # imgTest = face_recognition.load_image_file('face_recognition/elonmusk_test.jpg')\n",
    "\n",
    "# faceLoc = face_recognition.face_locations(imgElon)[0]\n",
    "# encodeElon = face_recognition.face_encodings(imgElon)[0]\n",
    "# cv2.rectangle(imgElon,(faceLoc[3],faceLoc[0]),(faceLoc[1],faceLoc[2]),(255,0,255),2)\n",
    "# #print(faceLoc)\n",
    "# faceLocTest = face_recognition.face_locations(imgTest)[0]\n",
    "# encodeTest = face_recognition.face_encodings(imgTest)[0]\n",
    "# cv2.rectangle(imgElon,(faceLoc[3],faceLoc[0]),(faceLoc[1],faceLoc[2]),(255,0,255),2)\n",
    "# cv2.rectangle(imgTest,(faceLocTest[3],faceLocTest[0]),(faceLocTest[1],faceLocTest[2]),(255,0,255),2)\n",
    "\n",
    "# val = face_recognition.compare_faces([encodeElon],encodeTest)\n",
    "# faceDis = face_recognition.face_distance([encodeElon],encodeTest)\n",
    "# print(val,faceDis)\n",
    "\n",
    "# cv2.putText(imgTest,f'{val} {round(faceDis[0],2)}',(40,30),cv2.FONT_HERSHEY_COMPLEX,1,(0,0,255),2)\n",
    "\n",
    "# cv2.imshow('Elon Musk',imgElon)\n",
    "# cv2.imshow('Elon Test',imgTest)\n",
    "# cv2.waitKey(0)\n",
    "\n",
    "img = cv2.imread('groupphoto.jpg')\n",
    "img1 = cv2.cvtColor(img,cv2.COLOR_BGR2GRAY)\n",
    "ret,thresh = cv2.threshold(img1,170,255,0)\n",
    "\n",
    "# draw different shapes of ellipses\n",
    "img = cv2.ellipse(img,(368,250),(100,40),30,0,180,(0,255,255),-1)\n",
    "img = cv2.ellipse(img,(150,170),(86,45),-30,0,360,(0,255,0),-1)\n",
    "img = cv2.ellipse(img,(578,250),(60,130),0,0,340,(0,0,255),-1)\n",
    "\n",
    "# display the image with drawn ellipses\n",
    "cv2.imshow(\"Ellipses\", img1)\n",
    "cv2.waitKey(0)\n",
    "cv2.destroyAllWindows()"
   ]
  },
  {
   "cell_type": "code",
   "execution_count": 4,
   "metadata": {},
   "outputs": [
    {
     "name": "stdout",
     "output_type": "stream",
     "text": [
      "Num GPUs Available:  0\n"
     ]
    }
   ],
   "source": [
    "import tensorflow as tf\n",
    "import tensorflow as tf\n",
    "print(\"Num GPUs Available: \", len(tf.config.list_physical_devices('GPU')))"
   ]
  },
  {
   "cell_type": "markdown",
   "metadata": {},
   "source": []
  }
 ],
 "metadata": {
  "kernelspec": {
   "display_name": "Python 3",
   "language": "python",
   "name": "python3"
  },
  "language_info": {
   "codemirror_mode": {
    "name": "ipython",
    "version": 3
   },
   "file_extension": ".py",
   "mimetype": "text/x-python",
   "name": "python",
   "nbconvert_exporter": "python",
   "pygments_lexer": "ipython3",
   "version": "3.10.11"
  },
  "orig_nbformat": 4
 },
 "nbformat": 4,
 "nbformat_minor": 2
}
